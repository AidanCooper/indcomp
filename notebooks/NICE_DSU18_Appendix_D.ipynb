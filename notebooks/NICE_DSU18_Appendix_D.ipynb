{
 "cells": [
  {
   "cell_type": "code",
   "execution_count": 1,
   "id": "3ae74f19",
   "metadata": {},
   "outputs": [],
   "source": [
    "import matplotlib.pyplot as plt\n",
    "import numpy as np\n",
    "import pandas as pd"
   ]
  },
  {
   "cell_type": "code",
   "execution_count": 2,
   "id": "914eaeaa",
   "metadata": {},
   "outputs": [],
   "source": [
    "np.random.seed(42)"
   ]
  },
  {
   "cell_type": "markdown",
   "id": "1d229b41",
   "metadata": {},
   "source": [
    "# Data Preparation"
   ]
  },
  {
   "cell_type": "markdown",
   "id": "a08ca77f",
   "metadata": {},
   "source": [
    "## Define study characteristics and outcome model"
   ]
  },
  {
   "cell_type": "code",
   "execution_count": 3,
   "id": "e1868c0f",
   "metadata": {},
   "outputs": [],
   "source": [
    "N_AB, N_AC = 500, 300\n",
    "minage_AB, minage_AC = 45, 45\n",
    "maxage_AB, maxage_AC = 75, 55\n",
    "femalepc_AB, femalepc_AC = 0.64, 0.8\n",
    "\n",
    "b_0 = 0.85\n",
    "b_gender = 0.12\n",
    "b_age = 0.05\n",
    "b_age_trt = -0.08\n",
    "b_trt_B, b_trt_C = -2.1, -2.5"
   ]
  },
  {
   "cell_type": "markdown",
   "id": "f08789a2",
   "metadata": {},
   "source": [
    "## Generate AB trial data"
   ]
  },
  {
   "cell_type": "code",
   "execution_count": 4,
   "id": "868693d3",
   "metadata": {},
   "outputs": [
    {
     "name": "stdout",
     "output_type": "stream",
     "text": [
      "      id  age  gender trt  y\n",
      "412  412   45       1   B  0\n",
      "253  253   73       0   B  0\n",
      "291  291   69       0   B  0\n",
      "336  336   73       0   B  0\n",
      "57    57   51       0   A  1\n",
      "137  137   52       0   A  1\n",
      "454  454   56       1   B  0\n",
      "61    61   62       1   A  0\n",
      "5      5   52       0   A  1\n",
      "271  271   61       1   B  0\n"
     ]
    },
    {
     "data": {
      "text/html": [
       "<div>\n",
       "<style scoped>\n",
       "    .dataframe tbody tr th:only-of-type {\n",
       "        vertical-align: middle;\n",
       "    }\n",
       "\n",
       "    .dataframe tbody tr th {\n",
       "        vertical-align: top;\n",
       "    }\n",
       "\n",
       "    .dataframe thead th {\n",
       "        text-align: right;\n",
       "    }\n",
       "</style>\n",
       "<table border=\"1\" class=\"dataframe\">\n",
       "  <thead>\n",
       "    <tr style=\"text-align: right;\">\n",
       "      <th></th>\n",
       "      <th>count</th>\n",
       "      <th>mean_age</th>\n",
       "      <th>sd_age</th>\n",
       "      <th>n_male</th>\n",
       "      <th>pc_male</th>\n",
       "      <th>sum_y</th>\n",
       "      <th>pc_y</th>\n",
       "    </tr>\n",
       "    <tr>\n",
       "      <th>trt</th>\n",
       "      <th></th>\n",
       "      <th></th>\n",
       "      <th></th>\n",
       "      <th></th>\n",
       "      <th></th>\n",
       "      <th></th>\n",
       "      <th></th>\n",
       "    </tr>\n",
       "  </thead>\n",
       "  <tbody>\n",
       "    <tr>\n",
       "      <th>A</th>\n",
       "      <td>250</td>\n",
       "      <td>60.088</td>\n",
       "      <td>9.236314</td>\n",
       "      <td>89</td>\n",
       "      <td>0.356</td>\n",
       "      <td>213</td>\n",
       "      <td>0.852</td>\n",
       "    </tr>\n",
       "    <tr>\n",
       "      <th>B</th>\n",
       "      <td>250</td>\n",
       "      <td>60.240</td>\n",
       "      <td>8.516367</td>\n",
       "      <td>90</td>\n",
       "      <td>0.360</td>\n",
       "      <td>41</td>\n",
       "      <td>0.164</td>\n",
       "    </tr>\n",
       "  </tbody>\n",
       "</table>\n",
       "</div>"
      ],
      "text/plain": [
       "     count  mean_age    sd_age  n_male  pc_male  sum_y   pc_y\n",
       "trt                                                          \n",
       "A      250    60.088  9.236314      89    0.356    213  0.852\n",
       "B      250    60.240  8.516367      90    0.360     41  0.164"
      ]
     },
     "execution_count": 4,
     "metadata": {},
     "output_type": "execute_result"
    }
   ],
   "source": [
    "# generate A arm\n",
    "AB_IPD = pd.DataFrame.from_dict(\n",
    "    {\n",
    "        \"id\": [p for p in range(int(N_AB / 2))],\n",
    "        \"age\": np.random.randint(minage_AB, maxage_AB, int(N_AB / 2)),\n",
    "        \"gender\": [\n",
    "            1 if np.random.random() > femalepc_AB else 0 for _ in range(int(N_AB / 2))\n",
    "        ],\n",
    "        \"trt\": [\"A\"] * int(N_AB / 2),\n",
    "    }\n",
    ")\n",
    "# generate B arm\n",
    "AB_IPD = pd.concat(\n",
    "    [\n",
    "        AB_IPD,\n",
    "        pd.DataFrame.from_dict(\n",
    "            {\n",
    "                \"id\": [p + int(N_AB / 2) for p in range(int(N_AB / 2))],\n",
    "                \"age\": np.random.randint(minage_AB, maxage_AB, int(N_AB / 2)),\n",
    "                \"gender\": [\n",
    "                    1 if np.random.random() > femalepc_AB else 0\n",
    "                    for _ in range(int(N_AB / 2))\n",
    "                ],\n",
    "                \"trt\": [\"B\"] * int(N_AB / 2),\n",
    "            }\n",
    "        ),\n",
    "    ],\n",
    "    ignore_index=True,\n",
    ")\n",
    "# generate outcomes\n",
    "def yprob(x):\n",
    "    t = b_0 + b_gender * x[\"gender\"] + b_age * (x[\"age\"] - 40)\n",
    "    if x[\"trt\"] == \"B\":\n",
    "        t += b_trt_B + b_age_trt * (x[\"age\"] - 40)\n",
    "    elif x[\"trt\"] == \"C\":\n",
    "        t += b_trt_C + b_age_trt * (x[\"age\"] - 40)\n",
    "    return  1 / (1 + np.exp(-t))\n",
    "AB_IPD[\"yprob\"] = AB_IPD.apply(yprob, axis=1)\n",
    "AB_IPD[\"y\"] = AB_IPD[\"yprob\"].apply(lambda x: np.random.binomial(1, x))\n",
    "AB_IPD.drop(\"yprob\", axis=1, inplace=True)\n",
    "\n",
    "print(AB_IPD.sample(10))\n",
    "AB_IPD.groupby(\"trt\").agg(\n",
    "    count=pd.NamedAgg(column=\"id\", aggfunc=\"count\"),\n",
    "    mean_age=pd.NamedAgg(column=\"age\", aggfunc=\"mean\"),\n",
    "    sd_age=pd.NamedAgg(column=\"age\", aggfunc=\"std\"),\n",
    "    n_male=pd.NamedAgg(column=\"gender\", aggfunc=\"sum\"),\n",
    "    pc_male=pd.NamedAgg(column=\"gender\", aggfunc=\"mean\"),\n",
    "    sum_y=pd.NamedAgg(column=\"y\", aggfunc=\"sum\"),\n",
    "    pc_y=pd.NamedAgg(column=\"y\", aggfunc=\"mean\")\n",
    ")"
   ]
  },
  {
   "cell_type": "markdown",
   "id": "2b5813cc",
   "metadata": {},
   "source": [
    "## Generate AC trial data"
   ]
  },
  {
   "cell_type": "code",
   "execution_count": 5,
   "id": "4f898165",
   "metadata": {},
   "outputs": [
    {
     "name": "stdout",
     "output_type": "stream",
     "text": [
      "      id  age  gender trt  y\n",
      "152    2   49       1   C  0\n",
      "111  111   48       1   A  1\n",
      "99    99   54       1   A  0\n",
      "87    87   47       0   A  1\n",
      "129  129   46       0   A  1\n",
      "184   34   49       0   C  0\n",
      "1      1   47       0   A  1\n",
      "79    79   47       0   A  1\n",
      "141  141   47       0   A  1\n",
      "176   26   45       0   C  0\n"
     ]
    },
    {
     "data": {
      "text/html": [
       "<div>\n",
       "<style scoped>\n",
       "    .dataframe tbody tr th:only-of-type {\n",
       "        vertical-align: middle;\n",
       "    }\n",
       "\n",
       "    .dataframe tbody tr th {\n",
       "        vertical-align: top;\n",
       "    }\n",
       "\n",
       "    .dataframe thead th {\n",
       "        text-align: right;\n",
       "    }\n",
       "</style>\n",
       "<table border=\"1\" class=\"dataframe\">\n",
       "  <thead>\n",
       "    <tr style=\"text-align: right;\">\n",
       "      <th></th>\n",
       "      <th>count</th>\n",
       "      <th>mean_age</th>\n",
       "      <th>sd_age</th>\n",
       "      <th>n_male</th>\n",
       "      <th>pc_male</th>\n",
       "      <th>sum_y</th>\n",
       "      <th>pc_y</th>\n",
       "    </tr>\n",
       "    <tr>\n",
       "      <th>trt</th>\n",
       "      <th></th>\n",
       "      <th></th>\n",
       "      <th></th>\n",
       "      <th></th>\n",
       "      <th></th>\n",
       "      <th></th>\n",
       "      <th></th>\n",
       "    </tr>\n",
       "  </thead>\n",
       "  <tbody>\n",
       "    <tr>\n",
       "      <th>A</th>\n",
       "      <td>150</td>\n",
       "      <td>49.086667</td>\n",
       "      <td>2.729252</td>\n",
       "      <td>29</td>\n",
       "      <td>0.193333</td>\n",
       "      <td>114</td>\n",
       "      <td>0.760000</td>\n",
       "    </tr>\n",
       "    <tr>\n",
       "      <th>C</th>\n",
       "      <td>150</td>\n",
       "      <td>49.426667</td>\n",
       "      <td>2.793441</td>\n",
       "      <td>25</td>\n",
       "      <td>0.166667</td>\n",
       "      <td>17</td>\n",
       "      <td>0.113333</td>\n",
       "    </tr>\n",
       "  </tbody>\n",
       "</table>\n",
       "</div>"
      ],
      "text/plain": [
       "     count   mean_age    sd_age  n_male   pc_male  sum_y      pc_y\n",
       "trt                                                               \n",
       "A      150  49.086667  2.729252      29  0.193333    114  0.760000\n",
       "C      150  49.426667  2.793441      25  0.166667     17  0.113333"
      ]
     },
     "execution_count": 5,
     "metadata": {},
     "output_type": "execute_result"
    }
   ],
   "source": [
    "# generate A arm\n",
    "AC_IPD = pd.DataFrame.from_dict(\n",
    "    {\n",
    "        \"id\": [p for p in range(int(N_AC / 2))],\n",
    "        \"age\": np.random.randint(minage_AC, maxage_AC, int(N_AC / 2)),\n",
    "        \"gender\": [\n",
    "            1 if np.random.random() > femalepc_AC else 0 for _ in range(int(N_AC / 2))\n",
    "        ],\n",
    "        \"trt\": [\"A\"] * int(N_AC / 2),\n",
    "    }\n",
    ")\n",
    "# generate C arm\n",
    "AC_IPD = pd.concat(\n",
    "    [\n",
    "        AC_IPD,\n",
    "        pd.DataFrame.from_dict(\n",
    "            {\n",
    "                \"id\": [p for p in range(int(N_AC / 2))],\n",
    "                \"age\": np.random.randint(minage_AC, maxage_AC, int(N_AC / 2)),\n",
    "                \"gender\": [\n",
    "                    1 if np.random.random() > femalepc_AC else 0\n",
    "                    for _ in range(int(N_AC / 2))\n",
    "                ],\n",
    "                \"trt\": [\"C\"] * int(N_AC / 2),\n",
    "            }\n",
    "        ),\n",
    "    ],\n",
    "    ignore_index=True,\n",
    ")\n",
    "# generate outcomes\n",
    "AC_IPD[\"yprob\"] = AC_IPD.apply(yprob, axis=1)\n",
    "AC_IPD[\"y\"] = AC_IPD[\"yprob\"].apply(lambda x: np.random.binomial(1, x))\n",
    "AC_IPD.drop(\"yprob\", axis=1, inplace=True)\n",
    "\n",
    "print(AC_IPD.sample(10))\n",
    "AC_IPD.groupby(\"trt\").agg(\n",
    "    count=pd.NamedAgg(column=\"id\", aggfunc=\"count\"),\n",
    "    mean_age=pd.NamedAgg(column=\"age\", aggfunc=\"mean\"),\n",
    "    sd_age=pd.NamedAgg(column=\"age\", aggfunc=\"std\"),\n",
    "    n_male=pd.NamedAgg(column=\"gender\", aggfunc=\"sum\"),\n",
    "    pc_male=pd.NamedAgg(column=\"gender\", aggfunc=\"mean\"),\n",
    "    sum_y=pd.NamedAgg(column=\"y\", aggfunc=\"sum\"),\n",
    "    pc_y=pd.NamedAgg(column=\"y\", aggfunc=\"mean\")\n",
    ")"
   ]
  },
  {
   "cell_type": "code",
   "execution_count": 6,
   "id": "e4dbb02a",
   "metadata": {},
   "outputs": [
    {
     "data": {
      "text/plain": [
       "age          49.256667\n",
       "age_sd        2.762165\n",
       "n_male       54.000000\n",
       "pc_male       0.180000\n",
       "y_A_sum     114.000000\n",
       "y_A_mean      0.760000\n",
       "n_A         150.000000\n",
       "y_C_sum      17.000000\n",
       "y_C_mean      0.113333\n",
       "n_C         150.000000\n",
       "dtype: float64"
      ]
     },
     "execution_count": 6,
     "metadata": {},
     "output_type": "execute_result"
    }
   ],
   "source": [
    "# compute aggregated data for AC trial\n",
    "AC_AgD = AC_IPD[[\"age\"]].mean()\n",
    "AC_AgD[\"age_sd\"] = AC_IPD[\"age\"].std()\n",
    "AC_AgD[\"n_male\"] = AC_IPD[\"gender\"].sum()\n",
    "AC_AgD[\"pc_male\"] = AC_IPD[\"gender\"].mean()\n",
    "AC_AgD[\"y_A_sum\"] = AC_IPD.query(\"trt == 'A'\")[\"y\"].sum()\n",
    "AC_AgD[\"y_A_mean\"] = AC_IPD.query(\"trt == 'A'\")[\"y\"].mean()\n",
    "AC_AgD[\"n_A\"] = AC_IPD.query(\"trt == 'A'\")[\"id\"].count()\n",
    "AC_AgD[\"y_C_sum\"] = AC_IPD.query(\"trt == 'C'\")[\"y\"].sum()\n",
    "AC_AgD[\"y_C_mean\"] = AC_IPD.query(\"trt == 'C'\")[\"y\"].mean()\n",
    "AC_AgD[\"n_C\"] = AC_IPD.query(\"trt == 'C'\")[\"id\"].count()\n",
    "\n",
    "AC_AgD"
   ]
  },
  {
   "cell_type": "markdown",
   "id": "f60dc477",
   "metadata": {},
   "source": [
    "# MAIC"
   ]
  },
  {
   "cell_type": "code",
   "execution_count": 7,
   "id": "cba1f118",
   "metadata": {},
   "outputs": [],
   "source": [
    "def objfn(a1, X):\n",
    "    return np.sum(np.exp(np.matmul(X, a1)))\n",
    "\n",
    "def gradfn(a1, X):\n",
    "    return np.dot(np.exp(np.matmul(X, a1)), X)\n",
    "\n",
    "X_EM_0 = AB_IPD[[\"age\"]].copy()\n",
    "X_EM_0[\"age2\"] = X_EM_0[\"age\"] ** 2\n",
    "X_EM_0[\"age\"] = X_EM_0[\"age\"] - AC_AgD[\"age\"]\n",
    "X_EM_0[\"age2\"] = X_EM_0[\"age2\"] - (AC_AgD[\"age\"] ** 2 + AC_AgD[\"age_sd\"] ** 2)"
   ]
  },
  {
   "cell_type": "code",
   "execution_count": 8,
   "id": "4ff8c6b0",
   "metadata": {},
   "outputs": [
    {
     "data": {
      "text/plain": [
       "      fun: 171.9138549068442\n",
       " hess_inv: array([[ 5.74253115e-01, -5.73046222e-03],\n",
       "       [-5.73046222e-03,  5.72601343e-05]])\n",
       "      jac: array([-5.49654295e-08, -4.76872356e-06])\n",
       "  message: 'Optimization terminated successfully.'\n",
       "     nfev: 25\n",
       "      nit: 18\n",
       "     njev: 25\n",
       "   status: 0\n",
       "  success: True\n",
       "        x: array([ 3.77172597, -0.03925683])"
      ]
     },
     "execution_count": 8,
     "metadata": {},
     "output_type": "execute_result"
    }
   ],
   "source": [
    "# https://machinelearningmastery.com/bfgs-optimization-in-python/\n",
    "from scipy.optimize import minimize\n",
    "\n",
    "result = minimize(objfn, (0, 0), method=\"BFGS\", jac=gradfn, args=(X_EM_0))\n",
    "result"
   ]
  },
  {
   "cell_type": "code",
   "execution_count": 9,
   "id": "408d2a4b",
   "metadata": {},
   "outputs": [
    {
     "name": "stdout",
     "output_type": "stream",
     "text": [
      "count    5.000000e+02\n",
      "mean     1.000000e+00\n",
      "std      1.492560e+00\n",
      "min      1.344335e-11\n",
      "25%      1.343886e-07\n",
      "50%      1.513295e-02\n",
      "75%      2.246636e+00\n",
      "max      4.158954e+00\n",
      "dtype: float64\n"
     ]
    },
    {
     "data": {
      "image/png": "[encoded data removed]",
      "text/plain": [
       "<Figure size 432x288 with 1 Axes>"
      ]
     },
     "metadata": {
      "needs_background": "light"
     },
     "output_type": "display_data"
    }
   ],
   "source": [
    "a1 = result.x\n",
    "wt = np.exp(np.matmul(X_EM_0, a1))\n",
    "wt_rs = wt / np.sum(wt) * N_AB\n",
    "print(wt_rs.describe())\n",
    "plt.hist(wt_rs);"
   ]
  },
  {
   "cell_type": "code",
   "execution_count": 10,
   "id": "45c1f6ee",
   "metadata": {},
   "outputs": [
    {
     "data": {
      "text/plain": [
       "171.91385490684428"
      ]
     },
     "execution_count": 10,
     "metadata": {},
     "output_type": "execute_result"
    }
   ],
   "source": [
    "ESS = np.sum(wt) ** 2 / sum(wt)\n",
    "ESS"
   ]
  },
  {
   "cell_type": "code",
   "execution_count": 11,
   "id": "4e48b911",
   "metadata": {},
   "outputs": [
    {
     "data": {
      "text/plain": [
       "0      5.169562e+01\n",
       "1      4.152280e-03\n",
       "2      2.490797e-09\n",
       "3      7.549372e-01\n",
       "4      1.173865e+01\n",
       "           ...     \n",
       "495    1.566350e-05\n",
       "496    3.420425e-10\n",
       "497    4.214765e-02\n",
       "498    1.043071e-07\n",
       "499    3.485204e+00\n",
       "Length: 500, dtype: float64"
      ]
     },
     "execution_count": 11,
     "metadata": {},
     "output_type": "execute_result"
    }
   ],
   "source": [
    "AB_IPD[\"weight\"] = wt\n",
    "AB_IPD[\"age\"] * AB_IPD[\"weight\"]"
   ]
  },
  {
   "cell_type": "code",
   "execution_count": 12,
   "id": "14cef238",
   "metadata": {},
   "outputs": [
    {
     "data": {
      "text/plain": [
       "(49.25666666634694, 2.7621647439784947)"
      ]
     },
     "execution_count": 12,
     "metadata": {},
     "output_type": "execute_result"
    }
   ],
   "source": [
    "age_mean = (AB_IPD[\"age\"] * wt_rs).mean()\n",
    "age_sd = np.sqrt(np.sum((wt / np.sum(wt)) * (AB_IPD[\"age\"] - age_mean) ** 2))\n",
    "age_mean, age_sd"
   ]
  },
  {
   "cell_type": "code",
   "execution_count": 13,
   "id": "ba2f275d",
   "metadata": {},
   "outputs": [
    {
     "data": {
      "text/plain": [
       "[49.25666666666667, 2.762164743298141]"
      ]
     },
     "execution_count": 13,
     "metadata": {},
     "output_type": "execute_result"
    }
   ],
   "source": [
    "list(AC_AgD[[\"age\", \"age_sd\"]].values)"
   ]
  },
  {
   "cell_type": "code",
   "execution_count": null,
   "id": "5059ef9e",
   "metadata": {},
   "outputs": [],
   "source": []
  }
 ],
 "metadata": {
  "kernelspec": {
   "display_name": "Python 3 (ipykernel)",
   "language": "python",
   "name": "python3"
  },
  "language_info": {
   "codemirror_mode": {
    "name": "ipython",
    "version": 3
   },
   "file_extension": ".py",
   "mimetype": "text/x-python",
   "name": "python",
   "nbconvert_exporter": "python",
   "pygments_lexer": "ipython3",
   "version": "3.10.1"
  },
  "toc": {
   "base_numbering": 1,
   "nav_menu": {},
   "number_sections": true,
   "sideBar": true,
   "skip_h1_title": false,
   "title_cell": "Table of Contents",
   "title_sidebar": "Contents",
   "toc_cell": false,
   "toc_position": {},
   "toc_section_display": true,
   "toc_window_display": false
  }
 },
 "nbformat": 4,
 "nbformat_minor": 5
}
