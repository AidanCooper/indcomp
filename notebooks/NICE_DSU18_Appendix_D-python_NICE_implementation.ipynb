{
 "cells": [
  {
   "cell_type": "markdown",
   "id": "29c298e3",
   "metadata": {},
   "source": [
    "# Background\n",
    "\n",
    "This notebook simulates data in an equivalent way to NICE's R code. It then conducts the same MAIC methodology in Python.\n",
    "\n",
    "Rmarkdown notebooks NICE's worked example in R:\n",
    "- [NICE_DSU_Technical_Support_Document-Appendix_D](../R)"
   ]
  },
  {
   "cell_type": "code",
   "execution_count": 1,
   "id": "3ae74f19",
   "metadata": {},
   "outputs": [],
   "source": [
    "import matplotlib.pyplot as plt\n",
    "import numpy as np\n",
    "import pandas as pd"
   ]
  },
  {
   "cell_type": "code",
   "execution_count": 2,
   "id": "914eaeaa",
   "metadata": {},
   "outputs": [],
   "source": [
    "np.random.seed(0)"
   ]
  },
  {
   "cell_type": "markdown",
   "id": "1d229b41",
   "metadata": {},
   "source": [
    "# Data Preparation"
   ]
  },
  {
   "cell_type": "markdown",
   "id": "a08ca77f",
   "metadata": {},
   "source": [
    "## Define study characteristics and outcome model"
   ]
  },
  {
   "cell_type": "code",
   "execution_count": 3,
   "id": "e1868c0f",
   "metadata": {},
   "outputs": [],
   "source": [
    "N_AB, N_AC = 500, 300\n",
    "minage_AB, minage_AC = 45, 45\n",
    "maxage_AB, maxage_AC = 75, 55\n",
    "femalepc_AB, femalepc_AC = 0.64, 0.8\n",
    "\n",
    "b_0 = 0.85\n",
    "b_gender = 0.12\n",
    "b_age = 0.05\n",
    "b_age_trt = -0.08\n",
    "b_trt_B, b_trt_C = -2.1, -2.5"
   ]
  },
  {
   "cell_type": "markdown",
   "id": "f08789a2",
   "metadata": {},
   "source": [
    "## Generate AB trial data"
   ]
  },
  {
   "cell_type": "code",
   "execution_count": 4,
   "id": "868693d3",
   "metadata": {},
   "outputs": [
    {
     "name": "stdout",
     "output_type": "stream",
     "text": [
      "      id  age  gender trt  y\n",
      "103  103   65       0   A  1\n",
      "441  441   51       0   B  0\n",
      "44    44   74       1   A  1\n",
      "192  192   58       0   A  1\n",
      "445  445   57       0   B  0\n",
      "410  410   61       1   B  0\n",
      "24    24   69       0   A  1\n",
      "424  424   74       1   B  0\n",
      "368  368   71       0   B  0\n",
      "396  396   59       0   B  0\n"
     ]
    },
    {
     "data": {
      "text/html": [
       "<div>\n",
       "<style scoped>\n",
       "    .dataframe tbody tr th:only-of-type {\n",
       "        vertical-align: middle;\n",
       "    }\n",
       "\n",
       "    .dataframe tbody tr th {\n",
       "        vertical-align: top;\n",
       "    }\n",
       "\n",
       "    .dataframe thead th {\n",
       "        text-align: right;\n",
       "    }\n",
       "</style>\n",
       "<table border=\"1\" class=\"dataframe\">\n",
       "  <thead>\n",
       "    <tr style=\"text-align: right;\">\n",
       "      <th></th>\n",
       "      <th>count</th>\n",
       "      <th>mean_age</th>\n",
       "      <th>sd_age</th>\n",
       "      <th>n_male</th>\n",
       "      <th>pc_male</th>\n",
       "      <th>sum_y</th>\n",
       "      <th>pc_y</th>\n",
       "    </tr>\n",
       "    <tr>\n",
       "      <th>trt</th>\n",
       "      <th></th>\n",
       "      <th></th>\n",
       "      <th></th>\n",
       "      <th></th>\n",
       "      <th></th>\n",
       "      <th></th>\n",
       "      <th></th>\n",
       "    </tr>\n",
       "  </thead>\n",
       "  <tbody>\n",
       "    <tr>\n",
       "      <th>A</th>\n",
       "      <td>250</td>\n",
       "      <td>58.636</td>\n",
       "      <td>8.641888</td>\n",
       "      <td>90</td>\n",
       "      <td>0.36</td>\n",
       "      <td>220</td>\n",
       "      <td>0.880</td>\n",
       "    </tr>\n",
       "    <tr>\n",
       "      <th>B</th>\n",
       "      <td>250</td>\n",
       "      <td>59.508</td>\n",
       "      <td>8.817308</td>\n",
       "      <td>85</td>\n",
       "      <td>0.34</td>\n",
       "      <td>41</td>\n",
       "      <td>0.164</td>\n",
       "    </tr>\n",
       "  </tbody>\n",
       "</table>\n",
       "</div>"
      ],
      "text/plain": [
       "     count  mean_age    sd_age  n_male  pc_male  sum_y   pc_y\n",
       "trt                                                          \n",
       "A      250    58.636  8.641888      90     0.36    220  0.880\n",
       "B      250    59.508  8.817308      85     0.34     41  0.164"
      ]
     },
     "execution_count": 4,
     "metadata": {},
     "output_type": "execute_result"
    }
   ],
   "source": [
    "# generate A arm\n",
    "AB_IPD = pd.DataFrame.from_dict(\n",
    "    {\n",
    "        \"id\": [p for p in range(int(N_AB / 2))],\n",
    "        \"age\": np.random.randint(minage_AB, maxage_AB, int(N_AB / 2)),\n",
    "        \"gender\": [\n",
    "            1 if np.random.random() > femalepc_AB else 0 for _ in range(int(N_AB / 2))\n",
    "        ],\n",
    "        \"trt\": [\"A\"] * int(N_AB / 2),\n",
    "    }\n",
    ")\n",
    "# generate B arm\n",
    "AB_IPD = pd.concat(\n",
    "    [\n",
    "        AB_IPD,\n",
    "        pd.DataFrame.from_dict(\n",
    "            {\n",
    "                \"id\": [p + int(N_AB / 2) for p in range(int(N_AB / 2))],\n",
    "                \"age\": np.random.randint(minage_AB, maxage_AB, int(N_AB / 2)),\n",
    "                \"gender\": [\n",
    "                    1 if np.random.random() > femalepc_AB else 0\n",
    "                    for _ in range(int(N_AB / 2))\n",
    "                ],\n",
    "                \"trt\": [\"B\"] * int(N_AB / 2),\n",
    "            }\n",
    "        ),\n",
    "    ],\n",
    "    ignore_index=True,\n",
    ")\n",
    "# generate outcomes\n",
    "def yprob(x):\n",
    "    t = b_0 + b_gender * x[\"gender\"] + b_age * (x[\"age\"] - 40)\n",
    "    if x[\"trt\"] == \"B\":\n",
    "        t += b_trt_B + b_age_trt * (x[\"age\"] - 40)\n",
    "    elif x[\"trt\"] == \"C\":\n",
    "        t += b_trt_C + b_age_trt * (x[\"age\"] - 40)\n",
    "    return 1 / (1 + np.exp(-t))\n",
    "\n",
    "\n",
    "AB_IPD[\"yprob\"] = AB_IPD.apply(yprob, axis=1)\n",
    "AB_IPD[\"y\"] = AB_IPD[\"yprob\"].apply(lambda x: np.random.binomial(1, x))\n",
    "AB_IPD.drop(\"yprob\", axis=1, inplace=True)\n",
    "\n",
    "print(AB_IPD.sample(10))\n",
    "AB_IPD.groupby(\"trt\").agg(\n",
    "    count=pd.NamedAgg(column=\"id\", aggfunc=\"count\"),\n",
    "    mean_age=pd.NamedAgg(column=\"age\", aggfunc=\"mean\"),\n",
    "    sd_age=pd.NamedAgg(column=\"age\", aggfunc=\"std\"),\n",
    "    n_male=pd.NamedAgg(column=\"gender\", aggfunc=\"sum\"),\n",
    "    pc_male=pd.NamedAgg(column=\"gender\", aggfunc=\"mean\"),\n",
    "    sum_y=pd.NamedAgg(column=\"y\", aggfunc=\"sum\"),\n",
    "    pc_y=pd.NamedAgg(column=\"y\", aggfunc=\"mean\"),\n",
    ")"
   ]
  },
  {
   "cell_type": "markdown",
   "id": "2b5813cc",
   "metadata": {},
   "source": [
    "## Generate AC trial data"
   ]
  },
  {
   "cell_type": "code",
   "execution_count": 5,
   "id": "4f898165",
   "metadata": {},
   "outputs": [
    {
     "name": "stdout",
     "output_type": "stream",
     "text": [
      "      id  age  gender trt  y\n",
      "115  115   46       0   A  1\n",
      "93    93   49       0   A  1\n",
      "21    21   47       0   A  1\n",
      "128  128   47       0   A  1\n",
      "81    81   51       1   A  1\n",
      "18    18   50       0   A  0\n",
      "60    60   46       1   A  1\n",
      "127  127   50       0   A  0\n",
      "195   45   52       0   C  0\n",
      "74    74   45       0   A  1\n"
     ]
    },
    {
     "data": {
      "text/html": [
       "<div>\n",
       "<style scoped>\n",
       "    .dataframe tbody tr th:only-of-type {\n",
       "        vertical-align: middle;\n",
       "    }\n",
       "\n",
       "    .dataframe tbody tr th {\n",
       "        vertical-align: top;\n",
       "    }\n",
       "\n",
       "    .dataframe thead th {\n",
       "        text-align: right;\n",
       "    }\n",
       "</style>\n",
       "<table border=\"1\" class=\"dataframe\">\n",
       "  <thead>\n",
       "    <tr style=\"text-align: right;\">\n",
       "      <th></th>\n",
       "      <th>count</th>\n",
       "      <th>mean_age</th>\n",
       "      <th>sd_age</th>\n",
       "      <th>n_male</th>\n",
       "      <th>pc_male</th>\n",
       "      <th>sum_y</th>\n",
       "      <th>pc_y</th>\n",
       "    </tr>\n",
       "    <tr>\n",
       "      <th>trt</th>\n",
       "      <th></th>\n",
       "      <th></th>\n",
       "      <th></th>\n",
       "      <th></th>\n",
       "      <th></th>\n",
       "      <th></th>\n",
       "      <th></th>\n",
       "    </tr>\n",
       "  </thead>\n",
       "  <tbody>\n",
       "    <tr>\n",
       "      <th>A</th>\n",
       "      <td>150</td>\n",
       "      <td>49.420000</td>\n",
       "      <td>2.862087</td>\n",
       "      <td>32</td>\n",
       "      <td>0.213333</td>\n",
       "      <td>113</td>\n",
       "      <td>0.753333</td>\n",
       "    </tr>\n",
       "    <tr>\n",
       "      <th>C</th>\n",
       "      <td>150</td>\n",
       "      <td>49.513333</td>\n",
       "      <td>2.911990</td>\n",
       "      <td>26</td>\n",
       "      <td>0.173333</td>\n",
       "      <td>22</td>\n",
       "      <td>0.146667</td>\n",
       "    </tr>\n",
       "  </tbody>\n",
       "</table>\n",
       "</div>"
      ],
      "text/plain": [
       "     count   mean_age    sd_age  n_male   pc_male  sum_y      pc_y\n",
       "trt                                                               \n",
       "A      150  49.420000  2.862087      32  0.213333    113  0.753333\n",
       "C      150  49.513333  2.911990      26  0.173333     22  0.146667"
      ]
     },
     "execution_count": 5,
     "metadata": {},
     "output_type": "execute_result"
    }
   ],
   "source": [
    "# generate A arm\n",
    "AC_IPD = pd.DataFrame.from_dict(\n",
    "    {\n",
    "        \"id\": [p for p in range(int(N_AC / 2))],\n",
    "        \"age\": np.random.randint(minage_AC, maxage_AC, int(N_AC / 2)),\n",
    "        \"gender\": [\n",
    "            1 if np.random.random() > femalepc_AC else 0 for _ in range(int(N_AC / 2))\n",
    "        ],\n",
    "        \"trt\": [\"A\"] * int(N_AC / 2),\n",
    "    }\n",
    ")\n",
    "# generate C arm\n",
    "AC_IPD = pd.concat(\n",
    "    [\n",
    "        AC_IPD,\n",
    "        pd.DataFrame.from_dict(\n",
    "            {\n",
    "                \"id\": [p for p in range(int(N_AC / 2))],\n",
    "                \"age\": np.random.randint(minage_AC, maxage_AC, int(N_AC / 2)),\n",
    "                \"gender\": [\n",
    "                    1 if np.random.random() > femalepc_AC else 0\n",
    "                    for _ in range(int(N_AC / 2))\n",
    "                ],\n",
    "                \"trt\": [\"C\"] * int(N_AC / 2),\n",
    "            }\n",
    "        ),\n",
    "    ],\n",
    "    ignore_index=True,\n",
    ")\n",
    "# generate outcomes\n",
    "AC_IPD[\"yprob\"] = AC_IPD.apply(yprob, axis=1)\n",
    "AC_IPD[\"y\"] = AC_IPD[\"yprob\"].apply(lambda x: np.random.binomial(1, x))\n",
    "AC_IPD.drop(\"yprob\", axis=1, inplace=True)\n",
    "\n",
    "print(AC_IPD.sample(10))\n",
    "AC_IPD.groupby(\"trt\").agg(\n",
    "    count=pd.NamedAgg(column=\"id\", aggfunc=\"count\"),\n",
    "    mean_age=pd.NamedAgg(column=\"age\", aggfunc=\"mean\"),\n",
    "    sd_age=pd.NamedAgg(column=\"age\", aggfunc=\"std\"),\n",
    "    n_male=pd.NamedAgg(column=\"gender\", aggfunc=\"sum\"),\n",
    "    pc_male=pd.NamedAgg(column=\"gender\", aggfunc=\"mean\"),\n",
    "    sum_y=pd.NamedAgg(column=\"y\", aggfunc=\"sum\"),\n",
    "    pc_y=pd.NamedAgg(column=\"y\", aggfunc=\"mean\"),\n",
    ")"
   ]
  },
  {
   "cell_type": "code",
   "execution_count": 6,
   "id": "e4dbb02a",
   "metadata": {},
   "outputs": [
    {
     "data": {
      "text/plain": [
       "age          49.466667\n",
       "age_sd        2.882694\n",
       "n_male       58.000000\n",
       "pc_male       0.193333\n",
       "y_A_sum     113.000000\n",
       "y_A_mean      0.753333\n",
       "n_A         150.000000\n",
       "y_C_sum      22.000000\n",
       "y_C_mean      0.146667\n",
       "n_C         150.000000\n",
       "dtype: float64"
      ]
     },
     "execution_count": 6,
     "metadata": {},
     "output_type": "execute_result"
    }
   ],
   "source": [
    "# compute aggregated data for AC trial\n",
    "AC_AgD = AC_IPD[[\"age\"]].mean()\n",
    "AC_AgD[\"age_sd\"] = AC_IPD[\"age\"].std()\n",
    "AC_AgD[\"n_male\"] = AC_IPD[\"gender\"].sum()\n",
    "AC_AgD[\"pc_male\"] = AC_IPD[\"gender\"].mean()\n",
    "AC_AgD[\"y_A_sum\"] = AC_IPD.query(\"trt == 'A'\")[\"y\"].sum()\n",
    "AC_AgD[\"y_A_mean\"] = AC_IPD.query(\"trt == 'A'\")[\"y\"].mean()\n",
    "AC_AgD[\"n_A\"] = AC_IPD.query(\"trt == 'A'\")[\"id\"].count()\n",
    "AC_AgD[\"y_C_sum\"] = AC_IPD.query(\"trt == 'C'\")[\"y\"].sum()\n",
    "AC_AgD[\"y_C_mean\"] = AC_IPD.query(\"trt == 'C'\")[\"y\"].mean()\n",
    "AC_AgD[\"n_C\"] = AC_IPD.query(\"trt == 'C'\")[\"id\"].count()\n",
    "\n",
    "AC_AgD"
   ]
  },
  {
   "cell_type": "markdown",
   "id": "f60dc477",
   "metadata": {},
   "source": [
    "# MAIC"
   ]
  },
  {
   "cell_type": "code",
   "execution_count": 7,
   "id": "cba1f118",
   "metadata": {},
   "outputs": [],
   "source": [
    "def objfn(a1, X):\n",
    "    return np.sum(np.exp(np.matmul(X, a1)))\n",
    "\n",
    "\n",
    "def gradfn(a1, X):\n",
    "    return np.dot(np.exp(np.matmul(X, a1)), X)\n",
    "\n",
    "\n",
    "X_EM_0 = AB_IPD[[\"age\"]].copy()\n",
    "X_EM_0[\"age2\"] = X_EM_0[\"age\"] ** 2\n",
    "X_EM_0[\"age\"] = X_EM_0[\"age\"] - AC_AgD[\"age\"]\n",
    "X_EM_0[\"age2\"] = X_EM_0[\"age2\"] - (AC_AgD[\"age\"] ** 2 + AC_AgD[\"age_sd\"] ** 2)"
   ]
  },
  {
   "cell_type": "code",
   "execution_count": 8,
   "id": "4ff8c6b0",
   "metadata": {},
   "outputs": [
    {
     "data": {
      "text/plain": [
       "      fun: 200.76228478845096\n",
       " hess_inv: array([[ 4.09152553e-01, -4.05622518e-03],\n",
       "       [-4.05622518e-03,  4.02712868e-05]])\n",
       "      jac: array([-9.22843846e-09, -4.37125436e-07])\n",
       "  message: 'Optimization terminated successfully.'\n",
       "     nfev: 23\n",
       "      nit: 17\n",
       "     njev: 23\n",
       "   status: 0\n",
       "  success: True\n",
       "        x: array([ 3.92447929, -0.04001556])"
      ]
     },
     "execution_count": 8,
     "metadata": {},
     "output_type": "execute_result"
    }
   ],
   "source": [
    "# https://machinelearningmastery.com/bfgs-optimization-in-python/\n",
    "from scipy.optimize import minimize\n",
    "\n",
    "result = minimize(objfn, (0, 0), method=\"BFGS\", jac=gradfn, args=(X_EM_0))\n",
    "result"
   ]
  },
  {
   "cell_type": "code",
   "execution_count": 9,
   "id": "408d2a4b",
   "metadata": {},
   "outputs": [
    {
     "name": "stdout",
     "output_type": "stream",
     "text": [
      "count    5.000000e+02\n",
      "mean     1.000000e+00\n",
      "std      1.313263e+00\n",
      "min      5.180574e-11\n",
      "25%      3.493834e-05\n",
      "50%      6.589685e-02\n",
      "75%      2.004412e+00\n",
      "max      3.498550e+00\n",
      "dtype: float64\n"
     ]
    },
    {
     "data": {
      "image/png": "[encoded data removed]",
      "text/plain": [
       "<Figure size 432x288 with 1 Axes>"
      ]
     },
     "metadata": {
      "needs_background": "light"
     },
     "output_type": "display_data"
    }
   ],
   "source": [
    "a1 = result.x\n",
    "wt = np.exp(np.matmul(X_EM_0, a1))\n",
    "wt_rs = wt / np.sum(wt) * N_AB\n",
    "print(wt_rs.describe())\n",
    "plt.hist(wt_rs);"
   ]
  },
  {
   "cell_type": "code",
   "execution_count": 10,
   "id": "45c1f6ee",
   "metadata": {},
   "outputs": [
    {
     "data": {
      "text/plain": [
       "183.74173046439876"
      ]
     },
     "execution_count": 10,
     "metadata": {},
     "output_type": "execute_result"
    }
   ],
   "source": [
    "ESS = np.sum(wt) ** 2 / sum(wt ** 2)\n",
    "ESS"
   ]
  },
  {
   "cell_type": "code",
   "execution_count": 11,
   "id": "14cef238",
   "metadata": {},
   "outputs": [
    {
     "data": {
      "text/plain": [
       "(49.4666666666207, 2.882693525934777)"
      ]
     },
     "execution_count": 11,
     "metadata": {},
     "output_type": "execute_result"
    }
   ],
   "source": [
    "age_mean = (AB_IPD[\"age\"] * wt_rs).mean()\n",
    "age_sd = np.sqrt(np.sum((wt / np.sum(wt)) * (AB_IPD[\"age\"] - age_mean) ** 2))\n",
    "age_mean, age_sd"
   ]
  },
  {
   "cell_type": "code",
   "execution_count": 12,
   "id": "ba2f275d",
   "metadata": {},
   "outputs": [
    {
     "data": {
      "text/plain": [
       "[49.46666666666667, 2.8826935255236337]"
      ]
     },
     "execution_count": 12,
     "metadata": {},
     "output_type": "execute_result"
    }
   ],
   "source": [
    "list(AC_AgD[[\"age\", \"age_sd\"]].values)"
   ]
  },
  {
   "cell_type": "markdown",
   "id": "63f66661",
   "metadata": {},
   "source": [
    "## Binomial GLM"
   ]
  },
  {
   "cell_type": "code",
   "execution_count": 13,
   "id": "870444d1",
   "metadata": {},
   "outputs": [
    {
     "data": {
      "text/html": [
       "<table class=\"simpletable\">\n",
       "<caption>Generalized Linear Model Regression Results</caption>\n",
       "<tr>\n",
       "  <th>Dep. Variable:</th>      <td>['y', 'y0']</td>   <th>  No. Observations:  </th>  <td>   500</td> \n",
       "</tr>\n",
       "<tr>\n",
       "  <th>Model:</th>                  <td>GLM</td>       <th>  Df Residuals:      </th> <td>  198.76</td>\n",
       "</tr>\n",
       "<tr>\n",
       "  <th>Model Family:</th>        <td>Binomial</td>     <th>  Df Model:          </th>  <td>     1</td> \n",
       "</tr>\n",
       "<tr>\n",
       "  <th>Link Function:</th>         <td>Logit</td>      <th>  Scale:             </th> <td>  1.0000</td>\n",
       "</tr>\n",
       "<tr>\n",
       "  <th>Method:</th>                <td>IRLS</td>       <th>  Log-Likelihood:    </th> <td> -99.942</td>\n",
       "</tr>\n",
       "<tr>\n",
       "  <th>Date:</th>            <td>Sat, 08 Jan 2022</td> <th>  Deviance:          </th> <td>  199.88</td>\n",
       "</tr>\n",
       "<tr>\n",
       "  <th>Time:</th>                <td>14:37:03</td>     <th>  Pearson chi2:      </th>  <td>  201.</td> \n",
       "</tr>\n",
       "<tr>\n",
       "  <th>No. Iterations:</th>          <td>4</td>        <th>  Pseudo R-squ. (CS):</th>  <td>0.1428</td> \n",
       "</tr>\n",
       "<tr>\n",
       "  <th>Covariance Type:</th>        <td>HC3</td>       <th>                     </th>     <td> </td>   \n",
       "</tr>\n",
       "</table>\n",
       "<table class=\"simpletable\">\n",
       "<tr>\n",
       "      <td></td>         <th>coef</th>     <th>std err</th>      <th>z</th>      <th>P>|z|</th>  <th>[0.025</th>    <th>0.975]</th>  \n",
       "</tr>\n",
       "<tr>\n",
       "  <th>Intercept</th> <td>    1.6330</td> <td>    0.269</td> <td>    6.079</td> <td> 0.000</td> <td>    1.107</td> <td>    2.160</td>\n",
       "</tr>\n",
       "<tr>\n",
       "  <th>trt[T.B]</th>  <td>   -2.7843</td> <td>    0.357</td> <td>   -7.804</td> <td> 0.000</td> <td>   -3.483</td> <td>   -2.085</td>\n",
       "</tr>\n",
       "</table>"
      ],
      "text/plain": [
       "<class 'statsmodels.iolib.summary.Summary'>\n",
       "\"\"\"\n",
       "                 Generalized Linear Model Regression Results                  \n",
       "==============================================================================\n",
       "Dep. Variable:            ['y', 'y0']   No. Observations:                  500\n",
       "Model:                            GLM   Df Residuals:                   198.76\n",
       "Model Family:                Binomial   Df Model:                            1\n",
       "Link Function:                  Logit   Scale:                          1.0000\n",
       "Method:                          IRLS   Log-Likelihood:                -99.942\n",
       "Date:                Sat, 08 Jan 2022   Deviance:                       199.88\n",
       "Time:                        14:37:03   Pearson chi2:                     201.\n",
       "No. Iterations:                     4   Pseudo R-squ. (CS):             0.1428\n",
       "Covariance Type:                  HC3                                         \n",
       "==============================================================================\n",
       "                 coef    std err          z      P>|z|      [0.025      0.975]\n",
       "------------------------------------------------------------------------------\n",
       "Intercept      1.6330      0.269      6.079      0.000       1.107       2.160\n",
       "trt[T.B]      -2.7843      0.357     -7.804      0.000      -3.483      -2.085\n",
       "==============================================================================\n",
       "\"\"\""
      ]
     },
     "execution_count": 13,
     "metadata": {},
     "output_type": "execute_result"
    }
   ],
   "source": [
    "import statsmodels.api as sm\n",
    "import statsmodels.formula.api as smf\n",
    "\n",
    "AB_IPD[\"y0\"] = 1 - AB_IPD[\"y\"]\n",
    "\n",
    "mod = smf.glm(\n",
    "    \"y + y0 ~ trt\", freq_weights=wt, family=sm.families.Binomial(), data=AB_IPD\n",
    ").fit(cov_type=\"HC3\")\n",
    "mod.summary()"
   ]
  },
  {
   "cell_type": "code",
   "execution_count": 14,
   "id": "5b537f82",
   "metadata": {},
   "outputs": [
    {
     "data": {
      "text/plain": [
       "-2.7842576204210543"
      ]
     },
     "execution_count": 14,
     "metadata": {},
     "output_type": "execute_result"
    }
   ],
   "source": [
    "d_AB_MAIC = mod.params[\"trt[T.B]\"]\n",
    "d_AB_MAIC"
   ]
  },
  {
   "cell_type": "code",
   "execution_count": 15,
   "id": "8df46836",
   "metadata": {},
   "outputs": [],
   "source": [
    "var_d_AB_MAIC = mod.cov_params_default[1][1]"
   ]
  },
  {
   "cell_type": "code",
   "execution_count": 16,
   "id": "a29a32cd",
   "metadata": {},
   "outputs": [
    {
     "data": {
      "text/plain": [
       "age          49.466667\n",
       "age_sd        2.882694\n",
       "n_male       58.000000\n",
       "pc_male       0.193333\n",
       "y_A_sum     113.000000\n",
       "y_A_mean      0.753333\n",
       "n_A         150.000000\n",
       "y_C_sum      22.000000\n",
       "y_C_mean      0.146667\n",
       "n_C         150.000000\n",
       "dtype: float64"
      ]
     },
     "execution_count": 16,
     "metadata": {},
     "output_type": "execute_result"
    }
   ],
   "source": [
    "AC_AgD"
   ]
  },
  {
   "cell_type": "code",
   "execution_count": 17,
   "id": "f48e6456",
   "metadata": {},
   "outputs": [
    {
     "data": {
      "text/plain": [
       "-0.093200096208363"
      ]
     },
     "execution_count": 17,
     "metadata": {},
     "output_type": "execute_result"
    }
   ],
   "source": [
    "d_AC = np.log(\n",
    "    AC_AgD[\"y_C_sum\"]\n",
    "    * (AC_AgD[\"n_A\"] - AC_AgD[\"y_A_sum\"])\n",
    "    / (AC_AgD[\"y_A_sum\"] * (AC_AgD[\"n_C\"] - AC_AgD[\"y_C_sum\"]))\n",
    ")\n",
    "var_d_AC = (\n",
    "    1 / AC_AgD[\"y_A_sum\"]\n",
    "    + 1 / (AC_AgD[\"n_A\"] - AC_AgD[\"y_A_sum\"])\n",
    "    + 1 / AC_AgD[\"y_C_sum\"]\n",
    "    + 1 / (AC_AgD[\"n_C\"] - AC_AgD[\"y_C_sum\"])\n",
    ")\n",
    "d_B_MAIC = d_AC - d_AB_MAIC\n",
    "d_B_MAIC"
   ]
  },
  {
   "cell_type": "code",
   "execution_count": 18,
   "id": "8fce467a",
   "metadata": {},
   "outputs": [
    {
     "data": {
      "text/plain": [
       "0.21641992006967337"
      ]
     },
     "execution_count": 18,
     "metadata": {},
     "output_type": "execute_result"
    }
   ],
   "source": [
    "var_d_BC_MAIC = var_d_AC + var_d_AB_MAIC\n",
    "var_d_BC_MAIC"
   ]
  },
  {
   "cell_type": "code",
   "execution_count": null,
   "id": "0292b47d",
   "metadata": {},
   "outputs": [],
   "source": []
  }
 ],
 "metadata": {
  "kernelspec": {
   "display_name": "Python 3 (ipykernel)",
   "language": "python",
   "name": "python3"
  },
  "language_info": {
   "codemirror_mode": {
    "name": "ipython",
    "version": 3
   },
   "file_extension": ".py",
   "mimetype": "text/x-python",
   "name": "python",
   "nbconvert_exporter": "python",
   "pygments_lexer": "ipython3",
   "version": "3.10.1"
  },
  "toc": {
   "base_numbering": 1,
   "nav_menu": {},
   "number_sections": true,
   "sideBar": true,
   "skip_h1_title": false,
   "title_cell": "Table of Contents",
   "title_sidebar": "Contents",
   "toc_cell": false,
   "toc_position": {},
   "toc_section_display": true,
   "toc_window_display": false
  }
 },
 "nbformat": 4,
 "nbformat_minor": 5
}
